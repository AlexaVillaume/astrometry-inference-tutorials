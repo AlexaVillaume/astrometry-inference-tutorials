{
 "cells": [
  {
   "cell_type": "markdown",
   "metadata": {},
   "source": [
    "To view a fully interactive version of this tutorial, [download it](https://gitlab.obspm.fr/babusiaux/GaiaTutorial/blob/master/Tutorial_MeanDistance.ipynb) and open it with your [Jupyter Notebook local server](http://jupyter.readthedocs.io/en/latest/index.html)."
   ]
  },
  {
   "cell_type": "markdown",
   "metadata": {},
   "source": [
    "# Distance of a stellar group"
   ]
  },
  {
   "cell_type": "markdown",
   "metadata": {},
   "source": [
    "let's set a stellar group of 1000 stars located at 3 kpc with Gaia typical errors"
   ]
  },
  {
   "cell_type": "code",
   "execution_count": 2,
   "metadata": {
    "collapsed": true
   },
   "outputs": [],
   "source": [
    "popdist <- 3.0 \n",
    "N <- 1000\n",
    "mags <- seq(18,20,length.out=N)\n",
    "getSigPi <- function(G,VmI) { # in mas\n",
    "  z <- sapply(G, function(G) { max(10**(0.4*(12.09-15)),10**(0.4*(G-15)))})\n",
    "  sigpi <- (-1.631+680.766*z+32.732*z*z)**0.5 * (0.986+(1-0.986)*VmI)/1000\n",
    "  return(sigpi)\n",
    "}\n",
    "parallax_error <- getSigPi(mags,1.0)"
   ]
  },
  {
   "cell_type": "markdown",
   "metadata": {},
   "source": [
    "let's add a few stars with larger errors"
   ]
  },
  {
   "cell_type": "code",
   "execution_count": 3,
   "metadata": {
    "collapsed": true
   },
   "outputs": [],
   "source": [
    "starswithissues <- sample(1:N,50)\n",
    "parallax_error[starswithissues] <- parallax_error[starswithissues]*2"
   ]
  },
  {
   "cell_type": "markdown",
   "metadata": {},
   "source": [
    "now compute their observed parallaxes"
   ]
  },
  {
   "cell_type": "code",
   "execution_count": 4,
   "metadata": {
    "collapsed": true
   },
   "outputs": [],
   "source": [
    "parallax <- rnorm(N,1/popdist,parallax_error)"
   ]
  },
  {
   "cell_type": "markdown",
   "metadata": {},
   "source": [
    "### 1. Through individual distances"
   ]
  },
  {
   "cell_type": "markdown",
   "metadata": {},
   "source": [
    "The wrong way to try to estimate the group distance is by averaging individual distances"
   ]
  },
  {
   "cell_type": "code",
   "execution_count": 5,
   "metadata": {},
   "outputs": [
    {
     "name": "stdout",
     "output_type": "stream",
     "text": [
      "Mean of the inverse parallax -1.288598 +/- 2.774807 \n"
     ]
    }
   ],
   "source": [
    "distance_indiv <- 1/parallax\n",
    "cat(\"Mean of the inverse parallax\",mean(distance_indiv),\"+/-\",sd(distance_indiv)/sqrt(N),\"\\n\")"
   ]
  },
  {
   "cell_type": "markdown",
   "metadata": {},
   "source": [
    "Looking at your distances, you would be tempted to remove \"outliers\" (in particular negative parallaxes!), removing perfectly valid data, providing an impression of improved precision, but obtaining a biased result"
   ]
  },
  {
   "cell_type": "code",
   "execution_count": 6,
   "metadata": {},
   "outputs": [
    {
     "data": {
      "text/plain": [
       "     Min.   1st Qu.    Median      Mean   3rd Qu.      Max. \n",
       "-2446.000     1.367     2.287    -1.289     3.614   717.400 "
      ]
     },
     "metadata": {},
     "output_type": "display_data"
    },
    {
     "name": "stdout",
     "output_type": "stream",
     "text": [
      "Mean of the inverse parallax 2.524695 +/- 0.05225625 \n"
     ]
    }
   ],
   "source": [
    "summary(distance_indiv)\n",
    "best <- abs(distance_indiv-median(distance_indiv))<3*mad(distance_indiv)\n",
    "cat(\"Mean of the inverse parallax\",mean(distance_indiv[best]),\"+/-\",sd(distance_indiv[best])/sqrt(N),\"\\n\")"
   ]
  },
  {
   "cell_type": "markdown",
   "metadata": {},
   "source": [
    "Indeed, the parallax distribution is normaly distributed in parallax space, not in distance space !"
   ]
  },
  {
   "cell_type": "code",
   "execution_count": 7,
   "metadata": {
    "scrolled": true
   },
   "outputs": [
    {
     "data": {
      "image/png": "[encoded data removed]",
      "text/plain": [
       "Plot with title “'best' stars”"
      ]
     },
     "metadata": {},
     "output_type": "display_data"
    }
   ],
   "source": [
    "par(mfrow=c(1,2)); options(repr.plot.width=7, repr.plot.height=3)\n",
    "plot(density(parallax),xlab=\"parallax\",main=\"all stars\"); abline(v=1/popdist,col=\"red\")\n",
    "plot(density(distance_indiv[best]),xlab=\"distance\",main=\"'best' stars\"); abline(v=popdist,col=\"red\")\n"
   ]
  },
  {
   "cell_type": "markdown",
   "metadata": {},
   "source": [
    "Note that the problem will be the same, even if potentially reduced, with other more sophisticated distance indicators than $\\frac{1}{\\varpi}$ such as those presented in the [Tutorial on Individual Distances](Tutorial_IndividualDistances.ipynb): your errors are Gaussian only in the parallax space. "
   ]
  },
  {
   "cell_type": "markdown",
   "metadata": {
    "collapsed": true
   },
   "source": [
    "## 2. Staying in parallax space"
   ]
  },
  {
   "cell_type": "markdown",
   "metadata": {},
   "source": [
    "In order to work with standard statistical tools that work with the Gaussian error hypothesis, one should work in parallax space. "
   ]
  },
  {
   "cell_type": "markdown",
   "metadata": {},
   "source": [
    "The inverse of the mean of the parallax is not adapted neither as the data are not heteroscedast (they have different variance). "
   ]
  },
  {
   "cell_type": "markdown",
   "metadata": {},
   "source": [
    "The weighted-mean of the parallaxes provides the un-biased distance to your stellar group. Indeed the maximum of the likelihood $\\mathcal{L}$ "
   ]
  },
  {
   "cell_type": "markdown",
   "metadata": {},
   "source": [
    "$\\mathcal{L} = \\prod_i P(\\varpi_i|\\varpi_0) = \\prod_i \\frac{1}{\\sigma_i \\sqrt{2\\pi}} e^{-\\frac{(\\varpi_i-\\varpi_0)^2}{2\\sigma_i^2}}$"
   ]
  },
  {
   "cell_type": "markdown",
   "metadata": {},
   "source": [
    "is for $\\frac{\\delta \\log \\mathcal{L}}{\\delta \\varpi} = 0$, e.g. with $w_i = \\frac{1}{\\sigma_i^2}$ : $\\hat{\\varpi} = \\frac{\\sum_i w_i \\varpi_i}{\\sum_i w_i}$"
   ]
  },
  {
   "cell_type": "code",
   "execution_count": 8,
   "metadata": {},
   "outputs": [
    {
     "name": "stdout",
     "output_type": "stream",
     "text": [
      "Distance from the weighted mean of the parallax 2.898127 +/- 0.06494315 \n"
     ]
    }
   ],
   "source": [
    "w <- 1/parallax_error**2\n",
    "moy <- sum(parallax*w)/sum(w)\n",
    "emoy <- 1./sqrt(sum(w))\n",
    "cat(\"Distance from the weighted mean of the parallax\",1/moy,\"+/-\",emoy/moy**2,\"\\n\")"
   ]
  },
  {
   "cell_type": "markdown",
   "metadata": {},
   "source": [
    "Don't forget to indicate the systematic Gaia parallax zero point (global or local) effect on your estimate!"
   ]
  }
 ],
 "metadata": {
  "kernelspec": {
   "display_name": "R",
   "language": "R",
   "name": "ir"
  },
  "language_info": {
   "codemirror_mode": "r",
   "file_extension": ".r",
   "mimetype": "text/x-r-source",
   "name": "R",
   "pygments_lexer": "r",
   "version": "3.3.1"
  }
 },
 "nbformat": 4,
 "nbformat_minor": 2
}
